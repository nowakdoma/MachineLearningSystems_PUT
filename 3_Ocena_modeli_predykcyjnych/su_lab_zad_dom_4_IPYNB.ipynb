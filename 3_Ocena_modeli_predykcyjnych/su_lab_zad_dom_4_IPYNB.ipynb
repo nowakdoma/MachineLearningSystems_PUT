{
  "cells": [
    {
      "cell_type": "markdown",
      "id": "69e52298440c6e3b",
      "metadata": {
        "collapsed": false,
        "id": "69e52298440c6e3b"
      },
      "source": [
        "# Systemy uczące się - Zad. dom. 4: Ocena modeli predykcyjnych\n",
        "\n",
        "### Autor rozwiązania\n",
        "Uzupełnij poniższe informacje umieszczając swoje imię i nazwisko oraz numer indeksu:"
      ]
    },
    {
      "cell_type": "code",
      "execution_count": null,
      "id": "e47ff80fe053b100",
      "metadata": {
        "id": "e47ff80fe053b100"
      },
      "outputs": [],
      "source": [
        "NAME = \"Dominika Nowak\"\n",
        "ID = \"\""
      ]
    },
    {
      "cell_type": "markdown",
      "id": "bdd51e80a7d4374d",
      "metadata": {
        "collapsed": false,
        "id": "bdd51e80a7d4374d"
      },
      "source": [
        "Ten notebook zawiera zadania związane z oceną modeli predykcyjnych. Oprócz zadań programistycznych, notebook zawira również pytania, na które trzeba odpowiedzieć. Odpowiedzi nie muszą być długie, ale powinny być merytoryczne i odnosić się do omawianych zagadnień. W tym zadaniu domowym należy odpowiedzieć na WSZYSTKIE pytania.\n",
        "\n",
        "\n",
        "## Format danych\n",
        "W tym zadaniu domyślnym typem danych będą macierze (`np.ndarray`) o rozmiarze `(n, c)`, gdzie `n` to liczba obserwacji, a `c` to liczba klas. Wartości w macierzy będą reprezentować:\n",
        "\n",
        "- w przypadku `y` - prawdziwe klasy (wartości binarne). Na przykład:\n",
        "    ```\n",
        "    [\n",
        "        [1, 0, 0],\n",
        "        [0, 0, 1],\n",
        "        [1, 0, 0],\n",
        "    ]\n",
        "    ```\n",
        "    oznacza, że pierwsza i trzecia obserwacja należą do klasy 0, a druga do klasy 2.\n",
        "\n",
        "- w przypadku `y_hat` - predykcje modelu. Wartości w macierzy mogą reprezentować:\n",
        "    * prawdopodobieństwa przynależności do danej klasy (wartości z przedziału `[0, 1]`). Na przykład:\n",
        "        ```\n",
        "        [\n",
        "            [0.9, 0.1, 0.0],\n",
        "            [0.1, 0.2, 0.7],\n",
        "            [0.8, 0.2, 0.0],\n",
        "        ]\n",
        "        ```\n",
        "        oznacza, że model przewiduje, że pierwsza obserwacja należy do klasy 0 z prawdopodobieństwem 0.9, a do klasy 1 z prawdopodobieństwem 0.1.\n",
        "    \n",
        "    * predykcje (wartości binarne), gdzie wartość `1` oznacza przynależność do danej klasy, a wartość `0` jej brak.\n",
        "        ```\n",
        "        [\n",
        "            [0, 1, 0],\n",
        "            [0, 0, 1],\n",
        "            [0, 1, 0],\n",
        "        ]\n",
        "        ```\n",
        "        oznacza, że model przewiduje, że pierwsza obserwacja należy do klasy 1, a druga do klasy 2."
      ]
    },
    {
      "cell_type": "markdown",
      "id": "c19a9bbaf859afd4",
      "metadata": {
        "collapsed": false,
        "id": "c19a9bbaf859afd4"
      },
      "source": [
        "# Zadanie 1: Punktowe miary oceny klasyfikatorów\n",
        "\n",
        "Zadanie polega na zaimplementowaniu funkcji obliczających punktowe miary oceny klasyfikatorów, takich jak:\n",
        "- dokładność (accuracy),\n",
        "- precyzja (precision),\n",
        "- czułość (recall),\n",
        "- specyficzność (specificity),\n",
        "- F1,\n",
        "- G-mean,\n",
        "- balanced accuracy.\n",
        "\n",
        "Uwagi:\n",
        "- Do rozwiązania zadania można wykorzystać wyłącznie bibliotekę `numpy`.\n",
        "- Na potrzeby zadania domowego można założyć, że klasyfikacja jest wieloklasowa, ale jednoetykietowa (tj. każda obserwacja należy do dokładnie jednej klasy).\n",
        "- W przypadku, gdy mianownik w równaniu miary oceny jest równy 0, wartość miary powinna wynosić 0.\n",
        "- Podpowiedź: przy obliczaniu wielu miar warto zaimplementować funkcję pomocniczą, która oblicza macierz pomyłek."
      ]
    },
    {
      "cell_type": "code",
      "execution_count": 2,
      "id": "cd9fa7c6262a1e77",
      "metadata": {
        "id": "cd9fa7c6262a1e77"
      },
      "outputs": [],
      "source": [
        "from typing import Literal\n",
        "\n",
        "import numpy as np"
      ]
    },
    {
      "cell_type": "code",
      "execution_count": 3,
      "id": "4816126ba546c472",
      "metadata": {
        "id": "4816126ba546c472"
      },
      "outputs": [],
      "source": [
        "y = np.eye(2, dtype=int)[np.repeat([0, 1], 50)]\n",
        "y_hat_0 = np.tile([1, 0], (100, 1))\n",
        "y_hat_1 = np.tile([0, 1], (100, 1))"
      ]
    },
    {
      "cell_type": "code",
      "execution_count": 4,
      "id": "551cb44f628f171f",
      "metadata": {
        "id": "551cb44f628f171f"
      },
      "outputs": [],
      "source": [
        "def accuracy(y_hat: np.ndarray, y: np.ndarray) -> float:\n",
        "    \"\"\"Funkcja obliczająca dokładność klasyfikacji (accuracy). Funkcja powinna wspierać klasyfikację wieloklasową.\n",
        "\n",
        "    Args:\n",
        "        y_hat (np.ndarray): Macierz z predykacjami modelu o wymiarach `(n, c)`.\n",
        "        y (np.ndarray): Macierz z prawdziwymi klasami o wymiarach `(n, c)`.\n",
        "\n",
        "    Returns:\n",
        "        float: Dokładność klasyfikacji.\n",
        "    \"\"\"\n",
        "    return np.mean(np.argmax(y_hat, axis=1) == np.argmax(y, axis=1))\n"
      ]
    },
    {
      "cell_type": "code",
      "execution_count": 5,
      "id": "9SetS5XEpx4u",
      "metadata": {
        "id": "9SetS5XEpx4u"
      },
      "outputs": [],
      "source": [
        "def comfusion_matrix(y_hat: np.ndarray, y: np.ndarray, mode: Literal[\"micro\", \"macro\"] = \"micro\") -> np.array:\n",
        "    \"\"\"Funkcja obliczająca macierz pomyłek dla klasyfikacji wieloklasowej.\n",
        "\n",
        "    Args:\n",
        "        y_hat (np.ndarray): Macierz z predykacjami modelu o wymiarach `(n, c)`.\n",
        "        y (np.ndarray): Macierz z prawdziwymi klasami o wymiarach `(n, c)`.\n",
        "        mode (\"micro\" | \"macro\"): Typ wyliczania macierzy. Domyślnie \"micro\".\n",
        "\n",
        "    Returns:\n",
        "        np.ndarray:\n",
        "            - Jeśli `mode=\"micro\"`, zwraca pojedynczą macierz o wymiarach `(c, c)`.[true_label, pred_label] 0,0 -> TN, 1,1 -> TP, 0,1 -> FP, 1,0 -> FN\n",
        "            - Jeśli `mode=\"macro\"`, zwraca tensor o wymiarach `(c, c, c)`, gdzie\n",
        "              każda macierz odpowiada jednej klasie w podejściu one-vs-all.\n",
        "    \"\"\"\n",
        "    n, c = y.shape\n",
        "    y_true_labels = np.argmax(y, axis=1)\n",
        "    y_pred_labels = np.argmax(y_hat, axis=1)\n",
        "\n",
        "    if mode == \"micro\":\n",
        "        confusion_matrix = np.zeros(2, dtype=int)\n",
        "        confusion_matrix[0] = np.sum(y_true_labels == y_pred_labels)\n",
        "        confusion_matrix[1] = n\n",
        "        return confusion_matrix\n",
        "\n",
        "    elif mode == \"macro\":\n",
        "        macro_matrices = np.zeros((c, 2, 2), dtype=int)\n",
        "        for class_idx in range(c):\n",
        "            binary_y_true = (y_true_labels == class_idx).astype(int)\n",
        "            binary_y_pred = (y_pred_labels == class_idx).astype(int)\n",
        "            for true_val, pred_val in zip(binary_y_true, binary_y_pred):\n",
        "                macro_matrices[class_idx, true_val, pred_val] += 1\n",
        "        return macro_matrices\n",
        "\n",
        "    else:\n",
        "        raise ValueError(\"Niepoprawny tryb\")\n"
      ]
    },
    {
      "cell_type": "code",
      "execution_count": 6,
      "id": "c540cf06bcdebb6d",
      "metadata": {
        "id": "c540cf06bcdebb6d"
      },
      "outputs": [],
      "source": [
        "def precision(y_hat: np.ndarray, y: np.ndarray, average: Literal[\"micro\", \"macro\"] = \"micro\") -> float:\n",
        "    \"\"\"Funkcja obliczająca precyzję klasyfikacji (precision). Funkcja powinna wspierać klasyfikację wieloklasową.\n",
        "\n",
        "    Args:\n",
        "        y_hat (np.ndarray): Macierz z predykacjami modelu o wymiarach `(n, c)`.\n",
        "        y (np.ndarray): Macierz z prawdziwymi klasami o wymiarach `(n, c)`.\n",
        "        average (\"micro\" | \"macro\"): Typ uśredniania wyników. Domyślnie \"micro\".\n",
        "\n",
        "    Returns:\n",
        "        float: Precyzja klasyfikacji.\n",
        "    \"\"\"\n",
        "    conf_matrix = comfusion_matrix(y_hat, y, mode=average)\n",
        "\n",
        "    if average == \"micro\":\n",
        "        tp, tpfp  = conf_matrix[0], conf_matrix[1]\n",
        "        return tp / tpfp if tpfp > 0 else 0.0\n",
        "\n",
        "    elif average == \"macro\":\n",
        "        c = conf_matrix.shape[0]\n",
        "        precisions = []\n",
        "        for i in range(c):\n",
        "            tp = conf_matrix[i, 1, 1]\n",
        "            fp = conf_matrix[i, 0, 1]\n",
        "            precisions.append(tp / (tp + fp) if (tp + fp) > 0 else 0.0)\n",
        "        return np.mean(precisions)\n",
        "\n",
        "    else:\n",
        "        raise ValueError(\"Niepoprawny tryb uśredniania\")"
      ]
    },
    {
      "cell_type": "code",
      "execution_count": 7,
      "id": "f9c8d8ce619ceca9",
      "metadata": {
        "id": "f9c8d8ce619ceca9"
      },
      "outputs": [],
      "source": [
        "def recall(y_hat: np.ndarray, y: np.ndarray, average: Literal[\"micro\", \"macro\"] = \"micro\") -> float:\n",
        "    \"\"\"Funkcja obliczająca czułość klasyfikacji (recall). Funkcja powinna wspierać klasyfikację wieloklasową.\n",
        "\n",
        "    Args:\n",
        "        y_hat (np.ndarray): Macierz z predykacjami modelu o wymiarach `(n, c)`.\n",
        "        y (np.ndarray): Macierz z prawdziwymi klasami o wymiarach `(n, c)`.\n",
        "        average (\"micro\" | \"macro\"): Typ uśredniania wyników. Domyślnie \"micro\".\n",
        "\n",
        "    Returns:\n",
        "        float: Precyzja klasyfikacji.\n",
        "    \"\"\"\n",
        "    conf_matrix = comfusion_matrix(y_hat, y, mode=average)\n",
        "\n",
        "    if average == \"micro\":\n",
        "        tp, tpfn  = conf_matrix[0], conf_matrix[1]\n",
        "        return tp / tpfn if tpfn > 0 else 0.0\n",
        "\n",
        "    elif average == \"macro\":\n",
        "        c = conf_matrix.shape[0]\n",
        "        recalls = []\n",
        "        for i in range(c):\n",
        "            tp = conf_matrix[i, 1, 1]\n",
        "            fn = conf_matrix[i, 1, 0]\n",
        "            recalls.append(tp / (tp + fn) if (tp + fn) > 0 else 0.0)\n",
        "        return np.mean(recalls)\n",
        "\n",
        "    else:\n",
        "        raise ValueError(\"Niepoprawny tryb uśredniania\")"
      ]
    },
    {
      "cell_type": "code",
      "execution_count": 8,
      "id": "acd7d74d04dea13f",
      "metadata": {
        "id": "acd7d74d04dea13f"
      },
      "outputs": [],
      "source": [
        "def specificity(y_hat: np.ndarray, y: np.ndarray, average: Literal[\"micro\", \"macro\"] = \"micro\") -> float:\n",
        "    \"\"\"Funkcja obliczająca specyficzność klasyfikacji (specificity). Funkcja powinna wspierać klasyfikację wieloklasową.\n",
        "\n",
        "    Args:\n",
        "        y_hat (np.ndarray): Macierz z predykacjami modelu o wymiarach `(n, c)`.\n",
        "        y (np.ndarray): Macierz z prawdziwymi klasami o wymiarach `(n, c)`.\n",
        "        average (\"micro\" | \"macro\"): Typ uśredniania wyników. Domyślnie \"micro\".\n",
        "\n",
        "    Returns:\n",
        "        float: Specyficzność klasyfikacji.\n",
        "    \"\"\"\n",
        "    conf_matrix = comfusion_matrix(y_hat, y, mode=average)\n",
        "\n",
        "    if average == \"micro\": # bez znajomości klasy negatywnej obliczane analogicznie do precision i recall\n",
        "                           # jako TN brane wszytskie poprawnie zaklasyfikowane przypadki, a jako TN + FP wszystkie przypadki\n",
        "        tn, tnfp  = conf_matrix[0], conf_matrix[1]\n",
        "        return tn / tnfp if tnfp > 0 else 0.0\n",
        "\n",
        "    elif average == \"macro\":\n",
        "        c = conf_matrix.shape[0]\n",
        "        specificities = []\n",
        "        for i in range(c):\n",
        "            tn = conf_matrix[i, 0, 0]\n",
        "            fp = conf_matrix[i, 0, 1]\n",
        "            specificities.append(tn / (tn + fp) if (tn + fp) > 0 else 0.0)\n",
        "        return np.mean(specificities)\n",
        "\n",
        "    else:\n",
        "        raise ValueError(\"Niepoprawny tryb uśredniania\")"
      ]
    },
    {
      "cell_type": "markdown",
      "id": "a3319f698d1d7d77",
      "metadata": {
        "collapsed": false,
        "id": "a3319f698d1d7d77"
      },
      "source": [
        "Zatrzymaj się w tym miejscu na chwilę i poeksperymentuj z dotychczas zaimplementowanymi funkcjami i danymi testowymi. Spróbuj zrozumieć, jak działają poszczególne miary oceny klasyfikatorów. Możesz ograniczyć się do uśredniania wyników \"micro\"."
      ]
    },
    {
      "cell_type": "code",
      "execution_count": 9,
      "id": "10be288f",
      "metadata": {},
      "outputs": [
        {
          "name": "stdout",
          "output_type": "stream",
          "text": [
            "Accuracy:\t\t\t0.5000\tscikit-learn: 0.5000\n",
            "Micro-averaging precision:\t0.5000\tscikit-learn: 0.5000\n",
            "Macro-averaging precision:\t0.2500\tscikit-learn: 0.2500\n",
            "Micro-averaging recall:\t\t0.5000\tscikit-learn: 0.5000\n",
            "Macro-averaging recall:\t\t0.5000\tscikit-learn: 0.5000\n",
            "Micro-averaging specificity:\t0.5000\n",
            "Macro-averaging specificity:\t0.5000\n"
          ]
        }
      ],
      "source": [
        "from sklearn.metrics import accuracy_score, precision_score, recall_score\n",
        "\n",
        "acc = accuracy(y_hat_0, y)\n",
        "skl_acc = accuracy_score(np.argmax(y, axis=1), np.argmax(y_hat_0, axis=1))\n",
        "\n",
        "precision_mirco = precision(y_hat_0, y, average=\"micro\")\n",
        "skl_precision_micro = precision_score(np.argmax(y, axis=1), np.argmax(y_hat_0, axis=1), average=\"micro\", zero_division=0)\n",
        "precision_marco = precision(y_hat_0, y, average=\"macro\")\n",
        "skl_precision_macro = precision_score(np.argmax(y, axis=1), np.argmax(y_hat_0, axis=1), average=\"macro\", zero_division=0)\n",
        "\n",
        "\n",
        "recall_micro = recall(y_hat_0, y, average=\"micro\")\n",
        "skl_recall_micro = recall_score(np.argmax(y, axis=1), np.argmax(y_hat_0, axis=1), average=\"micro\", zero_division=0)\n",
        "recall_macro = recall(y_hat_0, y, average=\"macro\")\n",
        "skl_recall_macro = recall_score(np.argmax(y, axis=1), np.argmax(y_hat_0, axis=1), average=\"macro\", zero_division=0)\n",
        "\n",
        "specificity_micro = specificity(y_hat_0, y, average=\"micro\")\n",
        "specificity_macro = specificity(y_hat_0, y, average=\"macro\")\n",
        "\n",
        "\n",
        "print(f\"Accuracy:\\t\\t\\t{acc:.4f}\\tscikit-learn: {skl_acc:.4f}\")\n",
        "print(f\"Micro-averaging precision:\\t{precision_mirco:.4f}\\tscikit-learn: {skl_precision_micro:.4f}\")\n",
        "print(f\"Macro-averaging precision:\\t{precision_marco:.4f}\\tscikit-learn: {skl_precision_macro:.4f}\")\n",
        "print(f\"Micro-averaging recall:\\t\\t{recall_micro:.4f}\\tscikit-learn: {skl_recall_micro:.4f}\")\n",
        "print(f\"Macro-averaging recall:\\t\\t{recall_macro:.4f}\\tscikit-learn: {skl_recall_macro:.4f}\")\n",
        "print(f\"Micro-averaging specificity:\\t{specificity_micro:.4f}\")\n",
        "print(f\"Macro-averaging specificity:\\t{specificity_macro:.4f}\")"
      ]
    },
    {
      "cell_type": "code",
      "execution_count": 10,
      "id": "5290461e",
      "metadata": {},
      "outputs": [
        {
          "name": "stdout",
          "output_type": "stream",
          "text": [
            "Accuracy:\t\t\t1.0000\tscikit-learn: 1.0000\n",
            "Micro-averaging precision:\t1.0000\tscikit-learn: 1.0000\n",
            "Macro-averaging precision:\t1.0000\tscikit-learn: 1.0000\n",
            "Micro-averaging recall:\t\t1.0000\tscikit-learn: 1.0000\n",
            "Macro-averaging recall:\t\t1.0000\tscikit-learn: 1.0000\n",
            "Micro-averaging specificity:\t1.0000\n",
            "Macro-averaging specificity:\t1.0000\n"
          ]
        }
      ],
      "source": [
        "y_ideal = np.eye(3)[np.array([0, 1, 2, 0, 1, 2])]\n",
        "y_hat_ideal = np.eye(3)[np.array([0, 1, 2, 0, 1, 2])]\n",
        "\n",
        "acc = accuracy(y_hat_ideal, y_ideal)\n",
        "skl_acc = accuracy_score(np.argmax(y_ideal, axis=1), np.argmax(y_hat_ideal, axis=1))\n",
        "\n",
        "precision_mirco = precision(y_hat_ideal, y_ideal, average=\"micro\")\n",
        "skl_precision_micro = precision_score(np.argmax(y_ideal, axis=1), np.argmax(y_hat_ideal, axis=1), average=\"micro\", zero_division=0)\n",
        "precision_marco = precision(y_hat_ideal, y_ideal, average=\"macro\")\n",
        "skl_precision_macro = precision_score(np.argmax(y_ideal, axis=1), np.argmax(y_hat_ideal, axis=1), average=\"macro\", zero_division=0)\n",
        "\n",
        "\n",
        "recall_micro = recall(y_hat_ideal, y_ideal, average=\"micro\")\n",
        "skl_recall_micro = recall_score(np.argmax(y_ideal, axis=1), np.argmax(y_hat_ideal, axis=1), average=\"micro\", zero_division=0)\n",
        "recall_macro = recall(y_hat_ideal, y_ideal, average=\"macro\")\n",
        "skl_recall_macro = recall_score(np.argmax(y_ideal, axis=1), np.argmax(y_hat_ideal, axis=1), average=\"macro\", zero_division=0)\n",
        "\n",
        "specificity_micro = specificity(y_hat_ideal, y_ideal, average=\"micro\")\n",
        "specificity_macro = specificity(y_hat_ideal, y_ideal, average=\"macro\")\n",
        "\n",
        "\n",
        "print(f\"Accuracy:\\t\\t\\t{acc:.4f}\\tscikit-learn: {skl_acc:.4f}\")\n",
        "print(f\"Micro-averaging precision:\\t{precision_mirco:.4f}\\tscikit-learn: {skl_precision_micro:.4f}\")\n",
        "print(f\"Macro-averaging precision:\\t{precision_marco:.4f}\\tscikit-learn: {skl_precision_macro:.4f}\")\n",
        "print(f\"Micro-averaging recall:\\t\\t{recall_micro:.4f}\\tscikit-learn: {skl_recall_micro:.4f}\")\n",
        "print(f\"Macro-averaging recall:\\t\\t{recall_macro:.4f}\\tscikit-learn: {skl_recall_macro:.4f}\")\n",
        "print(f\"Micro-averaging specificity:\\t{specificity_micro:.4f}\")\n",
        "print(f\"Macro-averaging specificity:\\t{specificity_macro:.4f}\")\n"
      ]
    },
    {
      "cell_type": "code",
      "execution_count": 11,
      "id": "a46197729b7aadf5",
      "metadata": {
        "id": "a46197729b7aadf5"
      },
      "outputs": [
        {
          "name": "stdout",
          "output_type": "stream",
          "text": [
            "Accuracy:\t\t\t0.1667\tscikit-learn: 0.1667\n",
            "Micro-averaging precision:\t0.1667\tscikit-learn: 0.1667\n",
            "Macro-averaging precision:\t0.0667\tscikit-learn: 0.0667\n",
            "Micro-averaging recall:\t\t0.1667\tscikit-learn: 0.1667\n",
            "Macro-averaging recall:\t\t0.1667\tscikit-learn: 0.1667\n",
            "Micro-averaging specificity:\t0.1667\n",
            "Macro-averaging specificity:\t0.5833\n"
          ]
        }
      ],
      "source": [
        "np.random.seed(83)\n",
        "y_random = np.eye(3)[np.array([0, 1, 2, 0, 1, 2])]\n",
        "y_hat_random = np.eye(3)[np.random.choice([0, 1, 2], size=6)]\n",
        "\n",
        "acc = accuracy(y_hat_random, y_random)\n",
        "skl_acc = accuracy_score(np.argmax(y_random, axis=1), np.argmax(y_hat_random, axis=1))\n",
        "\n",
        "precision_mirco = precision(y_hat_random, y_random, average=\"micro\")\n",
        "skl_precision_micro = precision_score(np.argmax(y_random, axis=1), np.argmax(y_hat_random, axis=1), average=\"micro\", zero_division=0)\n",
        "precision_marco = precision(y_hat_random, y_random, average=\"macro\")\n",
        "skl_precision_macro = precision_score(np.argmax(y_random, axis=1), np.argmax(y_hat_random, axis=1), average=\"macro\", zero_division=0)\n",
        "\n",
        "\n",
        "recall_micro = recall(y_hat_random, y_random, average=\"micro\")\n",
        "skl_recall_micro = recall_score(np.argmax(y_random, axis=1), np.argmax(y_hat_random, axis=1), average=\"micro\", zero_division=0)\n",
        "recall_macro = recall(y_hat_random, y_random, average=\"macro\")\n",
        "skl_recall_macro = recall_score(np.argmax(y_random, axis=1), np.argmax(y_hat_random, axis=1), average=\"macro\", zero_division=0)\n",
        "\n",
        "specificity_micro = specificity(y_hat_random, y_random, average=\"micro\")\n",
        "specificity_macro = specificity(y_hat_random, y_random, average=\"macro\")\n",
        "\n",
        "\n",
        "print(f\"Accuracy:\\t\\t\\t{acc:.4f}\\tscikit-learn: {skl_acc:.4f}\")\n",
        "print(f\"Micro-averaging precision:\\t{precision_mirco:.4f}\\tscikit-learn: {skl_precision_micro:.4f}\")\n",
        "print(f\"Macro-averaging precision:\\t{precision_marco:.4f}\\tscikit-learn: {skl_precision_macro:.4f}\")\n",
        "print(f\"Micro-averaging recall:\\t\\t{recall_micro:.4f}\\tscikit-learn: {skl_recall_micro:.4f}\")\n",
        "print(f\"Macro-averaging recall:\\t\\t{recall_macro:.4f}\\tscikit-learn: {skl_recall_macro:.4f}\")\n",
        "print(f\"Micro-averaging specificity:\\t{specificity_micro:.4f}\")\n",
        "print(f\"Macro-averaging specificity:\\t{specificity_macro:.4f}\")\n"
      ]
    },
    {
      "cell_type": "code",
      "execution_count": 12,
      "id": "01eef20e",
      "metadata": {},
      "outputs": [
        {
          "name": "stdout",
          "output_type": "stream",
          "text": [
            "Accuracy:\t\t\t0.3333\tscikit-learn: 0.3333\n",
            "Micro-averaging precision:\t0.3333\tscikit-learn: 0.3333\n",
            "Macro-averaging precision:\t0.1111\tscikit-learn: 0.1111\n",
            "Micro-averaging recall:\t\t0.3333\tscikit-learn: 0.3333\n",
            "Macro-averaging recall:\t\t0.3333\tscikit-learn: 0.3333\n",
            "Micro-averaging specificity:\t0.3333\n",
            "Macro-averaging specificity:\t0.6667\n"
          ]
        }
      ],
      "source": [
        "y_one_class = np.eye(3)[np.array([0, 1, 2, 0, 1, 2])]\n",
        "y_hat_one_class = np.eye(3)[np.array([0, 0, 0, 0, 0, 0])]\n",
        "\n",
        "acc = accuracy(y_hat_one_class, y_one_class)\n",
        "skl_acc = accuracy_score(np.argmax(y_one_class, axis=1), np.argmax(y_hat_one_class, axis=1))\n",
        "\n",
        "precision_mirco = precision(y_hat_one_class, y_one_class, average=\"micro\")\n",
        "skl_precision_micro = precision_score(np.argmax(y_one_class, axis=1), np.argmax(y_hat_one_class, axis=1), average=\"micro\", zero_division=0)\n",
        "precision_marco = precision(y_hat_one_class, y_one_class, average=\"macro\")\n",
        "skl_precision_macro = precision_score(np.argmax(y_one_class, axis=1), np.argmax(y_hat_one_class, axis=1), average=\"macro\", zero_division=0)\n",
        "\n",
        "\n",
        "recall_micro = recall(y_hat_one_class, y_one_class, average=\"micro\")\n",
        "skl_recall_micro = recall_score(np.argmax(y_one_class, axis=1), np.argmax(y_hat_one_class, axis=1), average=\"micro\", zero_division=0)\n",
        "recall_macro = recall(y_hat_one_class, y_one_class, average=\"macro\")\n",
        "skl_recall_macro = recall_score(np.argmax(y_one_class, axis=1), np.argmax(y_hat_one_class, axis=1), average=\"macro\", zero_division=0)\n",
        "\n",
        "specificity_micro = specificity(y_hat_one_class, y_one_class, average=\"micro\")\n",
        "specificity_macro = specificity(y_hat_one_class, y_one_class, average=\"macro\")\n",
        "\n",
        "\n",
        "print(f\"Accuracy:\\t\\t\\t{acc:.4f}\\tscikit-learn: {skl_acc:.4f}\")\n",
        "print(f\"Micro-averaging precision:\\t{precision_mirco:.4f}\\tscikit-learn: {skl_precision_micro:.4f}\")\n",
        "print(f\"Macro-averaging precision:\\t{precision_marco:.4f}\\tscikit-learn: {skl_precision_macro:.4f}\")\n",
        "print(f\"Micro-averaging recall:\\t\\t{recall_micro:.4f}\\tscikit-learn: {skl_recall_micro:.4f}\")\n",
        "print(f\"Macro-averaging recall:\\t\\t{recall_macro:.4f}\\tscikit-learn: {skl_recall_macro:.4f}\")\n",
        "print(f\"Micro-averaging specificity:\\t{specificity_micro:.4f}\")\n",
        "print(f\"Macro-averaging specificity:\\t{specificity_macro:.4f}\")"
      ]
    },
    {
      "cell_type": "markdown",
      "id": "ba83186dc89ad616",
      "metadata": {
        "collapsed": false,
        "id": "ba83186dc89ad616"
      },
      "source": [
        "Odpowiedz na pytanie\n",
        "\n",
        "1. Czy zaimplementowane funkcje mogą być wystarczające do oceny modeli klasyfikacyjnych? Jeśli nie, to dlaczego? Jeśli tak, to w jakich przypadkach?\n",
        "\n",
        "Ostateczny wybór metryki zależy od tego, jak dokładnych ocen oczekujemy oraz jak zbilansowane są dane, na których testujemy model. Accuracy jest często stosowaną podstawową metryką, jednak może prowadzić do mylących wyników, gdy dane są silnie niezbilansowane a model zawsze przewiduje klasę dominującą. Pozostałe metryki raczej dla większości przypadków nie będą wystarczające, zwłaszcza gdy nie ma podziału na klasy negatywne i pozytywne. Jeżeli taki podział by występował, to mogą się one przydać jako wstępne lub dodatkowe metryki np. maksymalizowanie precision będzie miało sens gdy zależy nam aby nie dostawać przypadków fałszywie pozytywnych (diagnozowanie medyczne), a recall gdy chcemy wyłapać jak najwięcej przypadków pozytywnych, nawet kosztem \"fałszywych alarmów\" (wykrywanie przestępstw)."
      ]
    },
    {
      "cell_type": "markdown",
      "id": "5aba6199",
      "metadata": {},
      "source": [
        "$F_1 = 2 \\cdot \\frac{\\text{Precision} \\cdot \\text{Recall}}{\\text{Precision} + \\text{Recall}}$"
      ]
    },
    {
      "cell_type": "code",
      "execution_count": 13,
      "id": "c66035216d71904e",
      "metadata": {
        "id": "c66035216d71904e"
      },
      "outputs": [],
      "source": [
        "def f1(y_hat: np.ndarray, y: np.ndarray, average: Literal[\"micro\", \"macro\"] = \"micro\") -> float:\n",
        "    \"\"\"Funkcja obliczająca miarę F1. Funkcja powinna wspierać klasyfikację wieloklasową.\n",
        "\n",
        "    Args:\n",
        "        y_hat (np.ndarray): Macierz z predykacjami modelu o wymiarach `(n, c)`.\n",
        "        y (np.ndarray): Macierz z prawdziwymi klasami o wymiarach `(n, c)`.\n",
        "        average (\"micro\" | \"macro\"): Typ uśredniania wyników. Domyślnie \"micro\".\n",
        "\n",
        "    Returns:\n",
        "        float: Specyficzność klasyfikacji.\n",
        "    \"\"\"\n",
        "    return 2 * (precision(y_hat, y, average) * recall(y_hat, y, average)) / (precision(y_hat, y, average) + recall(y_hat, y, average)) if (precision(y_hat, y, average) + recall(y_hat, y, average)) > 0 else 0.0"
      ]
    },
    {
      "cell_type": "code",
      "execution_count": 14,
      "id": "dde129f8a3d82ffa",
      "metadata": {
        "id": "dde129f8a3d82ffa"
      },
      "outputs": [],
      "source": [
        "def g_mean(y_hat: np.ndarray, y: np.ndarray, average: Literal[\"micro\", \"macro\"] = \"micro\") -> float:\n",
        "    \"\"\"Funkcja obliczająca miarę G-mean. Funkcja powinna wspierać klasyfikację wieloklasową.\n",
        "\n",
        "    Args:\n",
        "        y_hat (np.ndarray): Macierz z predykacjami modelu o wymiarach `(n, c)`.\n",
        "        y (np.ndarray): Macierz z prawdziwymi klasami o wymiarach `(n, c)`.\n",
        "        average (\"micro\" | \"macro\"): Typ uśredniania wyników. Domyślnie \"micro\".\n",
        "\n",
        "    Returns:\n",
        "        float: Specyficzność klasyfikacji.\n",
        "    \"\"\"\n",
        "    return np.sqrt(specificity(y_hat, y, average=average) * recall(y_hat, y, average=average)) # nie wiedziałam czy korzystać z micro czy macro, więc zostawiłam obie możliwości jak w sklearnie"
      ]
    },
    {
      "cell_type": "code",
      "execution_count": 15,
      "id": "8df6ca37c55b18c9",
      "metadata": {
        "id": "8df6ca37c55b18c9"
      },
      "outputs": [],
      "source": [
        "def balanced_accuracy(y_hat: np.ndarray, y: np.ndarray) -> float:\n",
        "    \"\"\"Funkcja obliczająca zbalansowaną dokładność klasyfikacji. Funkcja powinna wspierać klasyfikację wieloklasową.\n",
        "\n",
        "    Args:\n",
        "        y_hat (np.ndarray): Macierz z predykacjami modelu o wymiarach `(n, c)`.\n",
        "        y (np.ndarray): Macierz z prawdziwymi klasami o wymiarach `(n, c)`.\n",
        "\n",
        "    Returns:\n",
        "        float: Zbalansowana dokładność klasyfikacji.\n",
        "    \"\"\"\n",
        "    return np.mean([recall(y_hat, y, average=\"macro\"), specificity(y_hat, y, average=\"macro\")])"
      ]
    },
    {
      "cell_type": "markdown",
      "id": "c62385205b51daab",
      "metadata": {
        "collapsed": false,
        "id": "c62385205b51daab"
      },
      "source": [
        "Sprawdź jak zaimplementowane funkcje działają na 3 zbiorach testowych o różnej charakterystyce.\n",
        "\n",
        "### Scenariusz 1"
      ]
    },
    {
      "cell_type": "code",
      "execution_count": 16,
      "id": "e16a90ee7ed90e28",
      "metadata": {
        "id": "e16a90ee7ed90e28"
      },
      "outputs": [],
      "source": [
        "# dane silnie niezbalansowane: 80% klasa 0, 10% klasa 1, 5% klasa 2, 5% klasa 3\n",
        "\n",
        "# model przewiduje zawsze klasę 0\n",
        "y_hat_all_0 = np.eye(4)[np.array([0] * 100)]\n",
        "\n",
        "# model poprawnie przewiduje klasy 0 i 1, ale zawsze myli klasy 2 i 3\n",
        "y_hat_partial = np.eye(4)[np.array([0] * 80 + [1] * 10 + [3] * 5 + [2] * 5)]"
      ]
    },
    {
      "cell_type": "markdown",
      "id": "c1487d4cd26ef875",
      "metadata": {
        "collapsed": false,
        "id": "c1487d4cd26ef875"
      },
      "source": [
        "### Scenariusz 2"
      ]
    },
    {
      "cell_type": "code",
      "execution_count": 17,
      "id": "8b8c265d49fd7bf7",
      "metadata": {
        "id": "8b8c265d49fd7bf7"
      },
      "outputs": [],
      "source": [
        "# dane niezbalansowane: 50 próbek klasy 0, 25 klasy 1, 15 klasy 2, 10 klasy 3\n",
        "\n",
        "\n",
        "# Model przewiduje 60 próbek jako klasa 0, reszta losowo\n",
        "np.random.seed(42)\n",
        "y_hat = np.eye(4)[np.array([0] * 60 + list(np.random.choice([1, 2, 3], size=40)))]"
      ]
    },
    {
      "cell_type": "markdown",
      "id": "cec7fae84b99b8c2",
      "metadata": {
        "collapsed": false,
        "id": "cec7fae84b99b8c2"
      },
      "source": [
        "### Scenariusz 3"
      ]
    },
    {
      "cell_type": "code",
      "execution_count": 18,
      "id": "d57f67d7fb780945",
      "metadata": {
        "id": "d57f67d7fb780945"
      },
      "outputs": [],
      "source": [
        "# dane niezbalansowane jak w Scenariuszu 2\n",
        "y = np.eye(4)[np.array([0] * 50 + [1] * 25 + [2] * 15 + [3] * 10)]\n",
        "\n",
        "# model losowy\n",
        "np.random.seed(0)\n",
        "y_hat = np.eye(4)[np.random.choice([0, 1, 2, 3], size=100)]"
      ]
    },
    {
      "cell_type": "code",
      "execution_count": 19,
      "id": "d8bd935c809a3a9c",
      "metadata": {
        "id": "d8bd935c809a3a9c"
      },
      "outputs": [
        {
          "name": "stdout",
          "output_type": "stream",
          "text": [
            "Scenario 1.0:\n",
            "  F1 Macro:\t0.2222 (sklearn: 0.2222)\n",
            "  G-Mean Macro:\t0.4330 imblearn: 0.4330)\n",
            "  G-Mean Micro:\t0.8000 (imblearn: 0.8641)\n",
            "  Balanced Acc:\t0.5000 (sklearn: 0.2500)\n",
            "  Recall Macro:\t0.2500 (sklearn: 0.2500)\n",
            "\n",
            "Scenario 1.1:\n",
            "  F1 Macro:\t0.5000 (sklearn: 0.5000)\n",
            "  G-Mean Macro:\t0.6977 imblearn: 0.6977)\n",
            "  G-Mean Micro:\t0.9000 (imblearn: 0.9327)\n",
            "  Balanced Acc:\t0.7368 (sklearn: 0.5000)\n",
            "  Recall Macro:\t0.5000 (sklearn: 0.5000)\n",
            "\n",
            "Scenario 2:\n",
            "  F1 Macro:\t0.2511 (sklearn: 0.2228)\n",
            "  G-Mean Macro:\t0.4407 imblearn: 0.4407)\n",
            "  G-Mean Micro:\t0.2400 (imblearn: 0.4233)\n",
            "  Balanced Acc:\t0.5034 (sklearn: 0.2600)\n",
            "  Recall Macro:\t0.2600 (sklearn: 0.2600)\n",
            "\n",
            "Scenario 3:\n",
            "  F1 Macro:\t0.2511 (sklearn: 0.2228)\n",
            "  G-Mean Macro:\t0.4407 imblearn: 0.4407)\n",
            "  G-Mean Micro:\t0.2400 (imblearn: 0.4233)\n",
            "  Balanced Acc:\t0.5034 (sklearn: 0.2600)\n",
            "  Recall Macro:\t0.2600 (sklearn: 0.2600)\n",
            "\n"
          ]
        }
      ],
      "source": [
        "from sklearn.metrics import f1_score, balanced_accuracy_score, recall_score\n",
        "from imblearn.metrics import geometric_mean_score\n",
        "\n",
        "scenarios = {\n",
        "    \"Scenario 1.0\": (np.eye(4)[np.array([0] * 80 + [1] * 10 + [2] * 5 + [3] * 5)], y_hat_all_0),\n",
        "    \"Scenario 1.1\": (np.eye(4)[np.array([0] * 80 + [1] * 10 + [2] * 5 + [3] * 5)], y_hat_partial),\n",
        "    \"Scenario 2\": (np.eye(4)[np.array([0] * 50 + [1] * 25 + [2] * 15 + [3] * 10)], y_hat),\n",
        "    \"Scenario 3\": (y, y_hat)\n",
        "}\n",
        "\n",
        "for name, (y_true, y_pred) in scenarios.items():\n",
        "    print(f\"{name}:\")\n",
        "    \n",
        "    f1_macro = f1(y_pred, y_true, average=\"macro\")\n",
        "    skl_f1_macro = f1_score(np.argmax(y_true, axis=1), np.argmax(y_pred, axis=1), average=\"macro\")\n",
        "    \n",
        "    gmean_macro = g_mean(y_pred, y_true, average=\"macro\")\n",
        "    skl_gmean_macro = geometric_mean_score(np.argmax(y_true, axis=1), np.argmax(y_pred, axis=1), average=\"macro\")\n",
        "    \n",
        "    gmean_micro = g_mean(y_pred, y_true, average=\"micro\")\n",
        "    skl_gmean_micro = geometric_mean_score(np.argmax(y_true, axis=1), np.argmax(y_pred, axis=1), average=\"micro\")\n",
        "    \n",
        "    bal_acc = balanced_accuracy(y_pred, y_true)\n",
        "    skl_bal_acc = balanced_accuracy_score(np.argmax(y_true, axis=1), np.argmax(y_pred, axis=1))\n",
        "    \n",
        "    recall_macro = recall(y_pred, y_true, average=\"macro\")\n",
        "    skl_recall_macro = recall_score(np.argmax(y_true, axis=1), np.argmax(y_pred, axis=1), average=\"macro\")\n",
        "    \n",
        "    print(f\"  F1 Macro:\\t{f1_macro:.4f} (sklearn: {skl_f1_macro:.4f})\")\n",
        "    print(f\"  G-Mean Macro:\t{gmean_macro:.4f} imblearn: {skl_gmean_macro:.4f})\")\n",
        "    print(f\"  G-Mean Micro:\t{gmean_micro:.4f} (imblearn: {skl_gmean_micro:.4f})\")\n",
        "    print(f\"  Balanced Acc:\t{bal_acc:.4f} (sklearn: {skl_bal_acc:.4f})\")\n",
        "    print(f\"  Recall Macro:\t{recall_macro:.4f} (sklearn: {skl_recall_macro:.4f})\") # w sklearn balanced accuracy jest zaimplementowane jako:\n",
        "                                                                                   # It is defined as the average of recall obtained on each class.\n",
        "                                                                                   # czyli recall z macro-averaging \n",
        "    print()\n"
      ]
    },
    {
      "cell_type": "markdown",
      "id": "ea9722a8773175ca",
      "metadata": {
        "collapsed": false,
        "id": "ea9722a8773175ca"
      },
      "source": [
        "### Pytania\n",
        "\n",
        "Odpowiedz na pytania:\n",
        "1. Jakie różnice daje uśrednianie wyników \"micro\" w porównaniu do \"macro\"? Dla jakich danych warto użyć jednego, a dla jakich drugiego sposobu uśredniania wyników?\n",
        "    \n",
        "    - W uśrednaniu wyników \"micro\" bierzemy pod uwagę prawidłowe i nieprawidłowe klasyfikacje dla wszytskich klas. Takie podejście jest bardziej ogólne. Dla niezbilansowanych danych wyniki dla klasy dominującej mają wyższe znaczenie dla ostatecznej wartości metryki. Może być przydatniejsze, gdy zależy nam aby ta relacja dominacji była uwzględniona w ocenie jakości modelu(ważniejsze jest dla nas aby prawidłowo klasyfikoważ klasy o wyższej reprezentacji w danych). Macro-averaging wylicza metrykę dla każdej klasy z osobna i uśrednia tą wartość, przez co jakość wszytskich klas ma równą wagę do końowego wyniku. Przydante gdy mimo niezbilansowanych danych zależy nam żeby model równie dobrze radził sobie z klasami rzadkimi.\n",
        "\n",
        "**Uwagi od prowadzącego:**\n",
        "\"Zad 1, pyt 1: Nie rozumiem dlaczego micro lepiej działa dla zbalansowanych danych? Czy w przypadku idealnego zbalansowania micro i macro nie będą tożsame?\" \n",
        "    \n",
        "2. Dlaczego warto stosować zbalansowaną dokładność (balanced accuracy) zamiast zwykłej dokładności (accuracy)?\n",
        "\n",
        "    - Dla niezbilansowanych danych zwykła dokładność może dawać nam wyniki złudnie dobre np jeżeli model zawsze przewiduje klase dominująca, aby przed tym się zabezpieczyć i zwiększyć wpływ dokładności na klasach rzadkich do końcowego wyniku warto zastosowac balanced accuracy.\n",
        "\n",
        "3. Dlaczego warto stosować miarę G-mean zamiast F1? Dla jakich scenariuszy miara G-mean pozwala na bardziej adekwatną ocenę modelu?\n",
        "\n",
        "    - F1 zawiera precision i recall – maksymalizacja obu tych miar skupia się na poprawnym wykrywaniu przypadków prawdziwie pozytywnych. Precision oznacza, że przypadki zaklasyfikowane jako pozytywne są faktycznie pozytywne, a recall zapewnia, że nie przeoczymy pozytywnych przykładów. Jeżeli mamy wyodrębnioną klasę negatywną i zależy nam na wykrywaniu jej w równym stopniu co klasy pozytywnej, wtedy G-mean może być bardziej przydatne, gdyż uwzględnia zarówno recall (skupiający się na true positives), jak i specificity (skupiające się na true negatives), czyli zwraca uwagę również na poprawność klasyfikacji klasy negatywnej."
      ]
    },
    {
      "cell_type": "markdown",
      "id": "390faf8e900a486c",
      "metadata": {
        "collapsed": false,
        "id": "390faf8e900a486c"
      },
      "source": [
        "# Zadanie 2: k-folds cross-validation\n",
        "\n",
        "Zaimplementuj funkcję `split_to_k_folds`, która dokona podziału danych na `k` zbiorów treningowych i testowych. Następnie dokonaj analizy wpływu stratyfikacji na postrzegane ryzyko modelu."
      ]
    },
    {
      "cell_type": "code",
      "execution_count": 20,
      "id": "c243ea61ae1867c7",
      "metadata": {
        "id": "c243ea61ae1867c7"
      },
      "outputs": [],
      "source": [
        "def split_to_k_folds(x: np.ndarray, y: np.ndarray, k: int = 5, stratify: bool = True\n",
        "                     ) -> list[tuple[tuple[np.ndarray, np.ndarray], tuple[np.ndarray, np.ndarray]]]:\n",
        "    \"\"\"Funkcja implementująca k-krotną walidację krzyżową.\n",
        "\n",
        "    W przypadku stratyfikacji, funkcja powinna zachować proporcje klas w podziałach. W tym celu można\n",
        "    wykorzystać prosty algorytm zaproponowany podczas laboratorium.\n",
        "\n",
        "    Funkcja powinna zwracać listę krotek, gdzie każda krotka zawiera dane podzielone na zbiór treningowy i testowy.\n",
        "    Rozwiązanie to w oczywisty sposób nie jest optymalne pod względem pamięciowym, ale taki format zwracania danych\n",
        "    pomoże w dalszej części zadania.\n",
        "\n",
        "    Args:\n",
        "        x (np.ndarray): Macierz z danymi o wymiarach `(n, d)`.\n",
        "        y (np.ndarray): Macierz z etykietami o wymiarach `(n, c)`.\n",
        "        k (int): Liczba podziałów zbioru danych. Domyślnie 5.\n",
        "        stratify (bool): Czy zachować proporcje klas w podziałach. Domyślnie `True`.\n",
        "\n",
        "    Returns:\n",
        "        list[tuple[np.ndarray]]: Lista krotek z podziałami danych na zbiór treningowy i testowy.\n",
        "    \"\"\"\n",
        "    n_samples = x.shape[0]\n",
        "    indices = np.arange(n_samples)\n",
        "    np.random.seed(42)\n",
        "    np.random.shuffle(indices)\n",
        "    \n",
        "    if stratify:\n",
        "        y_labels = np.argmax(y, axis=1) if len(y.shape) > 1 else y  # Obsługa one-hot encoding i etykiet\n",
        "        unique_classes, class_counts = np.unique(y_labels, return_counts=True)\n",
        "        class_indices = {cls: np.where(y_labels == cls)[0] for cls in unique_classes}\n",
        "        \n",
        "        for cls in class_indices:\n",
        "            np.random.shuffle(class_indices[cls])\n",
        "        \n",
        "        folds = [[] for _ in range(k)]\n",
        "        for cls in unique_classes:\n",
        "            split_sizes = np.array_split(class_indices[cls], k)\n",
        "            for i in range(k):\n",
        "                folds[i].extend(split_sizes[i])\n",
        "        \n",
        "    else:\n",
        "        folds = np.array_split(indices, k)\n",
        "    \n",
        "    result = []\n",
        "    for i in range(k):\n",
        "        test_idx = np.array(folds[i])\n",
        "        train_idx = np.array([idx for j in range(k) if j != i for idx in folds[j]])\n",
        "        \n",
        "        x_train, x_test = x[train_idx], x[test_idx]\n",
        "        y_train, y_test = y[train_idx], y[test_idx]\n",
        "        result.append(((x_train, y_train), (x_test, y_test)))\n",
        "    \n",
        "    return result"
      ]
    },
    {
      "cell_type": "markdown",
      "id": "caf14d0ff078642e",
      "metadata": {
        "collapsed": false,
        "id": "caf14d0ff078642e"
      },
      "source": [
        "Przykładowe dane testowe. Zwróć uwagę, że dane te są niezbalansowane. Możesz dokonać modyfikacji danych, aby zobaczyć, jak zachowuje się algorytm w zależności od charakterystyki danych."
      ]
    },
    {
      "cell_type": "code",
      "execution_count": 21,
      "id": "903fbfac641dfd6a",
      "metadata": {
        "id": "903fbfac641dfd6a"
      },
      "outputs": [
        {
          "data": {
            "image/png": "[encoded data removed]",
            "text/plain": [
              "<Figure size 640x480 with 1 Axes>"
            ]
          },
          "metadata": {},
          "output_type": "display_data"
        }
      ],
      "source": [
        "import matplotlib.pyplot as plt\n",
        "\n",
        "n0 = 1000\n",
        "n1 = 50\n",
        "\n",
        "np.random.seed(42)\n",
        "x1 = np.random.randn(n0, 2) * 1.2\n",
        "x2 = np.random.randn(n1, 2) + [2, 2]\n",
        "\n",
        "x = np.vstack([x1, x2])\n",
        "y = np.array([0] * n0 + [1] * n1)\n",
        "\n",
        "plt.scatter(x[:, 0], x[:, 1], c=y)\n",
        "plt.show()"
      ]
    },
    {
      "cell_type": "code",
      "execution_count": 22,
      "id": "ccc424be6e2c6b1d",
      "metadata": {
        "id": "ccc424be6e2c6b1d"
      },
      "outputs": [],
      "source": [
        "splits_stratified = split_to_k_folds(x, y, k=5, stratify=True)\n",
        "splits = split_to_k_folds(x, y, k=5, stratify=False)"
      ]
    },
    {
      "cell_type": "code",
      "execution_count": 23,
      "id": "87649e59",
      "metadata": {},
      "outputs": [
        {
          "data": {
            "text/plain": [
              "((840, 2), (210, 2), (210,))"
            ]
          },
          "execution_count": 23,
          "metadata": {},
          "output_type": "execute_result"
        }
      ],
      "source": [
        "splits_stratified[0][0][0].shape, splits_stratified[0][1][0].shape, splits_stratified[0][1][1].shape"
      ]
    },
    {
      "cell_type": "code",
      "execution_count": 24,
      "id": "a5d54283",
      "metadata": {},
      "outputs": [
        {
          "data": {
            "text/plain": [
              "((840, 2), (210, 2), (210,))"
            ]
          },
          "execution_count": 24,
          "metadata": {},
          "output_type": "execute_result"
        }
      ],
      "source": [
        "splits[0][0][0].shape, splits[0][1][0].shape, splits[0][1][1].shape"
      ]
    },
    {
      "cell_type": "code",
      "execution_count": 25,
      "id": "018532f2",
      "metadata": {},
      "outputs": [
        {
          "name": "stdout",
          "output_type": "stream",
          "text": [
            "Stratified split:\n",
            "Class distribution in each fold:\n",
            "\n",
            "Fold 1:\n",
            "Training set:\n",
            "  Class 0: 800 samples\n",
            "  Class 1: 40 samples\n",
            "Test set:\n",
            "  Class 0: 200 samples\n",
            "  Class 1: 10 samples\n",
            "\n",
            "Fold 2:\n",
            "Training set:\n",
            "  Class 0: 800 samples\n",
            "  Class 1: 40 samples\n",
            "Test set:\n",
            "  Class 0: 200 samples\n",
            "  Class 1: 10 samples\n",
            "\n",
            "Fold 3:\n",
            "Training set:\n",
            "  Class 0: 800 samples\n",
            "  Class 1: 40 samples\n",
            "Test set:\n",
            "  Class 0: 200 samples\n",
            "  Class 1: 10 samples\n",
            "\n",
            "Fold 4:\n",
            "Training set:\n",
            "  Class 0: 800 samples\n",
            "  Class 1: 40 samples\n",
            "Test set:\n",
            "  Class 0: 200 samples\n",
            "  Class 1: 10 samples\n",
            "\n",
            "Fold 5:\n",
            "Training set:\n",
            "  Class 0: 800 samples\n",
            "  Class 1: 40 samples\n",
            "Test set:\n",
            "  Class 0: 200 samples\n",
            "  Class 1: 10 samples\n",
            "\n",
            "Non-stratified split:\n",
            "Class distribution in each fold:\n",
            "\n",
            "Fold 1:\n",
            "Training set:\n",
            "  Class 0: 803 samples\n",
            "  Class 1: 37 samples\n",
            "Test set:\n",
            "  Class 0: 197 samples\n",
            "  Class 1: 13 samples\n",
            "\n",
            "Fold 2:\n",
            "Training set:\n",
            "  Class 0: 797 samples\n",
            "  Class 1: 43 samples\n",
            "Test set:\n",
            "  Class 0: 203 samples\n",
            "  Class 1: 7 samples\n",
            "\n",
            "Fold 3:\n",
            "Training set:\n",
            "  Class 0: 797 samples\n",
            "  Class 1: 43 samples\n",
            "Test set:\n",
            "  Class 0: 203 samples\n",
            "  Class 1: 7 samples\n",
            "\n",
            "Fold 4:\n",
            "Training set:\n",
            "  Class 0: 801 samples\n",
            "  Class 1: 39 samples\n",
            "Test set:\n",
            "  Class 0: 199 samples\n",
            "  Class 1: 11 samples\n",
            "\n",
            "Fold 5:\n",
            "Training set:\n",
            "  Class 0: 802 samples\n",
            "  Class 1: 38 samples\n",
            "Test set:\n",
            "  Class 0: 198 samples\n",
            "  Class 1: 12 samples\n"
          ]
        }
      ],
      "source": [
        "def print_class_distribution(splits, stratify=True):\n",
        "    print(\"Class distribution in each fold:\")\n",
        "    for i, (train, test) in enumerate(splits):\n",
        "        train_classes, train_counts = np.unique(train[1], return_counts=True)\n",
        "        test_classes, test_counts = np.unique(test[1], return_counts=True)\n",
        "\n",
        "        print(f\"\\nFold {i+1}:\")\n",
        "        print(\"Training set:\")\n",
        "        for cls, count in zip(train_classes, train_counts):\n",
        "            print(f\"  Class {cls}: {count} samples\")\n",
        "\n",
        "        print(\"Test set:\")\n",
        "        for cls, count in zip(test_classes, test_counts):\n",
        "            print(f\"  Class {cls}: {count} samples\")\n",
        "\n",
        "print(\"Stratified split:\")\n",
        "print_class_distribution(splits_stratified)\n",
        "\n",
        "print(\"\\nNon-stratified split:\")\n",
        "print_class_distribution(splits)\n"
      ]
    },
    {
      "cell_type": "markdown",
      "id": "bdb42ca701f371e1",
      "metadata": {
        "collapsed": false,
        "id": "bdb42ca701f371e1"
      },
      "source": [
        "Przeprowadź walidację krzyżową dla klasyfikatora `GaussianNB` na danych z poprzedniego kroku. Porównaj wyniki dla obu wariantów podziału danych. Na podstawie obserwacji z poprzedniego zadania, wybierz miary oceny klasyfikatora, które uznasz za najbardziej adekwatne do tego zadania.\n",
        "\n",
        "Poniższą komórkę możesz dowolnie modyfikować, aby np. obliczać kilka miar jednocześnie."
      ]
    },
    {
      "cell_type": "code",
      "execution_count": 26,
      "id": "488cc5c1",
      "metadata": {},
      "outputs": [],
      "source": [
        "from sklearn.metrics import confusion_matrix\n",
        "\n",
        "def binary_specifity(y_hat: np.ndarray, y: np.ndarray) -> float:\n",
        "    \"\"\"Funkcja obliczająca specyficzność klasyfikacji (specificity). Funkcja powinna wspierać klasyfikację binarną.\n",
        "\n",
        "    Args:\n",
        "        y_hat (np.ndarray): Macierz z predykacjami modelu o wymiarach `(n, 2)`.\n",
        "        y (np.ndarray): Macierz z prawdziwymi klasami o wymiarach `(n, 2)`.\n",
        "\n",
        "    Returns:\n",
        "        float: Specyficzność klasyfikacji.\n",
        "    \"\"\"\n",
        "\n",
        "    conf_matrix = confusion_matrix(y, y_hat)\n",
        "    tn, fp = conf_matrix[0, 0], conf_matrix[0, 1]\n",
        "    return tn / (tn + fp) if (tn + fp) > 0 else 0.0"
      ]
    },
    {
      "cell_type": "code",
      "execution_count": 27,
      "id": "988b351a93bcdb86",
      "metadata": {
        "id": "988b351a93bcdb86"
      },
      "outputs": [
        {
          "name": "stdout",
          "output_type": "stream",
          "text": [
            "Metrics for each fold:\n",
            "Accuracy: 0.9619 +/- 0.0117\n",
            "Balanced Accuracy: 0.6784 +/- 0.0557\n",
            "G-mean: 0.5947 +/- 0.0905\n",
            "Recall: 0.3648 +/- 0.1113\n",
            "Specificity: 0.9920 +/- 0.0040\n"
          ]
        }
      ],
      "source": [
        "from sklearn.naive_bayes import GaussianNB\n",
        "\n",
        "metrics = {'accuracy': [], 'balanced_accuracy': [], 'g_mean': [], 'recall': [], 'specificity': []}\n",
        "\n",
        "for (x_train, y_train), (x_test, y_test) in splits:\n",
        "    model = GaussianNB()\n",
        "    model.fit(x_train, y_train)\n",
        "    y_hat = model.predict(x_test)\n",
        "\n",
        "    metrics['accuracy'].append(accuracy_score(y_test, y_hat))\n",
        "    metrics['balanced_accuracy'].append(balanced_accuracy_score(y_test, y_hat))\n",
        "    metrics['g_mean'].append(geometric_mean_score(y_test, y_hat))\n",
        "    metrics['recall'].append(recall_score(y_test, y_hat))\n",
        "    metrics['specificity'].append(binary_specifity(y_hat, y_test))\n",
        "\n",
        "print(\"Metrics for each fold:\")\n",
        "print(f\"Accuracy: {np.mean(metrics['accuracy']):.4f} +/- {np.std(metrics['accuracy']):.4f}\")\n",
        "print(f\"Balanced Accuracy: {np.mean(metrics['balanced_accuracy']):.4f} +/- {np.std(metrics['balanced_accuracy']):.4f}\")\n",
        "print(f\"G-mean: {np.mean(metrics['g_mean']):.4f} +/- {np.std(metrics['g_mean']):.4f}\")\n",
        "print(f\"Recall: {np.mean(metrics['recall']):.4f} +/- {np.std(metrics['recall']):.4f}\")\n",
        "print(f\"Specificity: {np.mean(metrics['specificity']):.4f} +/- {np.std(metrics['specificity']):.4f}\")"
      ]
    },
    {
      "cell_type": "markdown",
      "id": "fa6234ff28d28cd1",
      "metadata": {
        "collapsed": false,
        "id": "fa6234ff28d28cd1"
      },
      "source": [
        "### Pytania\n",
        "\n",
        "Odpowiedz na pytania:\n",
        "1. Jaka była Twoja motywacja do wybrania konkretnych miar klasyfikacji?\n",
        "\n",
        "    - Dokładność jako taka podstawowa miara, zbalansowana dokładność żeby sprawdzić jak wypada dokładność z wyrównaniem wagi dla obu klas. G-mean żeby też żeby zobaczyć jak to wygląda łacznie dla obu klas. True positive rate i true negative rate żeby sprawdzić dla której klasy ma większy problem model. Ze względu że mamy tu do czynienia z klasyfikacją binarną to wykorzystałam metryki dostępne w sklearn, ponieważ w pierwszym zadaniu nie było to uwzględnione do zaimplementowania i już nie zdąże dopisać tej funkcjonalności, a jendak dla klasyfikacji binarnej nie sprawdzą się aż tak dobrze moim zdaniem miary z micro i macro averaging.\n",
        "\n",
        "2. Dla jakich danych warto zastosować stratyfikację podczas walidacji krzyżowej?\n",
        "\n",
        "    - Stratyfikację podczas walidacji krzyżowej warto zastosować w przypadku danych, które są niezrównoważone. Pomaga ona utrzymać proporcje klas w każdym z foldów, więc zapewnia że każdy z nich reprezentuje pełny rozkład klas, co może poprawić jakość oceny modelu.\n",
        "\n",
        "3. Jakie ryzyko niesie za sobą losowy podział danych na dwa zbiory (treningowy i testowy), zamiast używania walidacji krzyżowej ze stratyfikacją?\n",
        "\n",
        "    - Zwłaszcza w przypadku danych niezbilansowanych, losowy podział może prowadzić do nierealistycznych wyników, ponieważ np. do zbioru testowego może trafić zbyt mało przykładów klasy rzadkiej, co sprawi, że model oceni je bardzo dobrze, uzyskując nierealistycznie optymistyczny wynik(Może też się akurat trafić, że te klika przykładów będzie niepoprawnie zaklasyfikowanych i wynik będzie zbyt pesymistyczny). Wyrównanie rokładu klas do rzeczywistego poprawi nasze możliwości estymacji jakości modelu na nowych danych."
      ]
    }
  ],
  "metadata": {
    "colab": {
      "provenance": []
    },
    "kernelspec": {
      "display_name": "Python 3",
      "language": "python",
      "name": "python3"
    },
    "language_info": {
      "codemirror_mode": {
        "name": "ipython",
        "version": 3
      },
      "file_extension": ".py",
      "mimetype": "text/x-python",
      "name": "python",
      "nbconvert_exporter": "python",
      "pygments_lexer": "ipython3",
      "version": "3.12.8"
    }
  },
  "nbformat": 4,
  "nbformat_minor": 5
}
